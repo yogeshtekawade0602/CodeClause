{
 "cells": [
  {
   "cell_type": "code",
   "execution_count": 1,
   "id": "a4d7934b",
   "metadata": {},
   "outputs": [
    {
     "ename": "ModuleNotFoundError",
     "evalue": "No module named 'pyresparser'",
     "output_type": "error",
     "traceback": [
      "\u001b[1;31m---------------------------------------------------------------------------\u001b[0m",
      "\u001b[1;31mModuleNotFoundError\u001b[0m                       Traceback (most recent call last)",
      "\u001b[1;32m~\\AppData\\Local\\Temp/ipykernel_756/846140329.py\u001b[0m in \u001b[0;36m<module>\u001b[1;34m\u001b[0m\n\u001b[0;32m      6\u001b[0m \u001b[1;32mimport\u001b[0m \u001b[0mtkinter\u001b[0m\u001b[1;33m.\u001b[0m\u001b[0mfont\u001b[0m \u001b[1;32mas\u001b[0m \u001b[0mfont\u001b[0m\u001b[1;33m\u001b[0m\u001b[1;33m\u001b[0m\u001b[0m\n\u001b[0;32m      7\u001b[0m \u001b[1;32mfrom\u001b[0m \u001b[0mfunctools\u001b[0m \u001b[1;32mimport\u001b[0m \u001b[0mpartial\u001b[0m\u001b[1;33m\u001b[0m\u001b[1;33m\u001b[0m\u001b[0m\n\u001b[1;32m----> 8\u001b[1;33m \u001b[1;32mfrom\u001b[0m \u001b[0mpyresparser\u001b[0m \u001b[1;32mimport\u001b[0m \u001b[0mResumeParser\u001b[0m\u001b[1;33m\u001b[0m\u001b[1;33m\u001b[0m\u001b[0m\n\u001b[0m\u001b[0;32m      9\u001b[0m \u001b[1;32mfrom\u001b[0m \u001b[0msklearn\u001b[0m \u001b[1;32mimport\u001b[0m \u001b[0mdatasets\u001b[0m\u001b[1;33m,\u001b[0m \u001b[0mlinear_model\u001b[0m\u001b[1;33m\u001b[0m\u001b[1;33m\u001b[0m\u001b[0m\n",
      "\u001b[1;31mModuleNotFoundError\u001b[0m: No module named 'pyresparser'"
     ]
    }
   ],
   "source": [
    "import os\n",
    "import pandas as pd\n",
    "import numpy as np\n",
    "from tkinter import *\n",
    "from tkinter import filedialog\n",
    "import tkinter.font as font\n",
    "from functools import partial\n",
    "from pyresparser import ResumeParser\n",
    "from sklearn import datasets, linear_model "
   ]
  },
  {
   "cell_type": "code",
   "execution_count": 9,
   "id": "e4e89222",
   "metadata": {},
   "outputs": [],
   "source": [
    "class train_model:\n",
    "    \n",
    "    def train(self):\n",
    "        data =pd.read_csv('training_dataset.csv')\n",
    "        array = data.values\n",
    "\n",
    "        for i in range(len(array)):\n",
    "            if array[i][0]==\"Male\":\n",
    "                array[i][0]=1\n",
    "            else:\n",
    "                array[i][0]=0\n",
    "                \n",
    "        df=pd.DataFrame(array)\n",
    "        maindf =df[[0,1,2,3,4,5,6]]\n",
    "        mainarray=maindf.values\n",
    "\n",
    "        temp=df[7]\n",
    "        train_y =temp.values\n",
    "        \n",
    "        self.mul_lr = linear_model.LogisticRegression(multi_class='multinomial', solver='newton-cg',max_iter =1000)\n",
    "        self.mul_lr.fit(mainarray, train_y)"
   ]
  },
  {
   "cell_type": "code",
   "execution_count": 10,
   "id": "3012c233",
   "metadata": {},
   "outputs": [],
   "source": [
    "    def test(self, test_data):\n",
    "        try:\n",
    "            test_predict=list()\n",
    "            for i in test_data:\n",
    "                test_predict.append(int(i))\n",
    "            y_pred = self.mul_lr.predict([test_predict])\n",
    "            return y_pred\n",
    "        except:\n",
    "            print(\"All Factors For Finding Personality Not Entered!\")"
   ]
  },
  {
   "cell_type": "code",
   "execution_count": 11,
   "id": "6d3132a4",
   "metadata": {},
   "outputs": [],
   "source": [
    "def check_type(data):\n",
    "    if type(data)==str or type(data)==str:\n",
    "        return str(data).title()\n",
    "    if type(data)==list or type(data)==tuple:\n",
    "        str_list=\"\"\n",
    "        for i,item in enumerate(data):\n",
    "            str_list+=item+\", \"\n",
    "        return str_list\n",
    "    else:   return str(data)"
   ]
  },
  {
   "cell_type": "code",
   "execution_count": 16,
   "id": "be527e26",
   "metadata": {},
   "outputs": [],
   "source": [
    "def prediction_result(top, aplcnt_name, cv_path, personality_values):\n",
    "    \"after applying a job\"\n",
    "    top.withdraw()\n",
    "    applicant_data={\"Candidate Name\":aplcnt_name.get(),  \"CV Location\":cv_path}\n",
    "    \n",
    "    age = personality_values[1]\n",
    "    \n",
    "    print(\"\\n############# Candidate Entered Data #############\\n\")\n",
    "    print(applicant_data, personality_values)\n",
    "    \n",
    "    personality = model.test(personality_values)\n",
    "    print(\"\\n############# Predicted Personality #############\\n\")\n",
    "    print(personality)\n",
    "    data = ResumeParser(cv_path).get_extracted_data()\n",
    "    \n",
    "    try:\n",
    "        del data['name']\n",
    "        if len(data['mobile_number'])<10:\n",
    "            del data['mobile_number']\n",
    "    except:\n",
    "        pass\n",
    "    \n",
    "    print(\"\\n############# Resume Parsed Data #############\\n\")\n",
    "\n",
    "    for key in data.keys():\n",
    "        if data[key] is not None:\n",
    "            print('{} : {}'.format(key,data[key]))\n",
    "    \n",
    "    result=Tk()\n",
    "    \n",
    "      #  result.geometry('700x550')\n",
    "    result.overrideredirect(False)\n",
    "    result.geometry(\"{0}x{1}+0+0\".format(result.winfo_screenwidth(), result.winfo_screenheight()))\n",
    "    result.configure(background='White')\n",
    "    result.title(\"Predicted Personality\")\n",
    "    \n",
    "        #Title\n",
    "    titleFont = font.Font(family='Arial', size=40, weight='bold')\n",
    "    Label(result, text=\"Result - Personality Prediction\", foreground='green', bg='white', font=titleFont, pady=10, anchor=CENTER).pack(fill=BOTH)"
   ]
  },
  {
   "cell_type": "code",
   "execution_count": 15,
   "id": "f87dcc8e",
   "metadata": {},
   "outputs": [
    {
     "ename": "RuntimeError",
     "evalue": "Too early to use font: no default root window",
     "output_type": "error",
     "traceback": [
      "\u001b[1;31m---------------------------------------------------------------------------\u001b[0m",
      "\u001b[1;31mRuntimeError\u001b[0m                              Traceback (most recent call last)",
      "\u001b[1;32m~\\AppData\\Local\\Temp/ipykernel_756/4168048883.py\u001b[0m in \u001b[0;36m<module>\u001b[1;34m\u001b[0m\n\u001b[0;32m      1\u001b[0m \u001b[1;31m#Title\u001b[0m\u001b[1;33m\u001b[0m\u001b[1;33m\u001b[0m\u001b[0m\n\u001b[1;32m----> 2\u001b[1;33m \u001b[0mtitleFont\u001b[0m \u001b[1;33m=\u001b[0m \u001b[0mfont\u001b[0m\u001b[1;33m.\u001b[0m\u001b[0mFont\u001b[0m\u001b[1;33m(\u001b[0m\u001b[0mfamily\u001b[0m\u001b[1;33m=\u001b[0m\u001b[1;34m'Arial'\u001b[0m\u001b[1;33m,\u001b[0m \u001b[0msize\u001b[0m\u001b[1;33m=\u001b[0m\u001b[1;36m40\u001b[0m\u001b[1;33m,\u001b[0m \u001b[0mweight\u001b[0m\u001b[1;33m=\u001b[0m\u001b[1;34m'bold'\u001b[0m\u001b[1;33m)\u001b[0m\u001b[1;33m\u001b[0m\u001b[1;33m\u001b[0m\u001b[0m\n\u001b[0m\u001b[0;32m      3\u001b[0m \u001b[0mLabel\u001b[0m\u001b[1;33m(\u001b[0m\u001b[0mresult\u001b[0m\u001b[1;33m,\u001b[0m \u001b[0mtext\u001b[0m\u001b[1;33m=\u001b[0m\u001b[1;34m\"Result - Personality Prediction\"\u001b[0m\u001b[1;33m,\u001b[0m \u001b[0mforeground\u001b[0m\u001b[1;33m=\u001b[0m\u001b[1;34m'green'\u001b[0m\u001b[1;33m,\u001b[0m \u001b[0mbg\u001b[0m\u001b[1;33m=\u001b[0m\u001b[1;34m'white'\u001b[0m\u001b[1;33m,\u001b[0m \u001b[0mfont\u001b[0m\u001b[1;33m=\u001b[0m\u001b[0mtitleFont\u001b[0m\u001b[1;33m,\u001b[0m \u001b[0mpady\u001b[0m\u001b[1;33m=\u001b[0m\u001b[1;36m10\u001b[0m\u001b[1;33m,\u001b[0m \u001b[0manchor\u001b[0m\u001b[1;33m=\u001b[0m\u001b[0mCENTER\u001b[0m\u001b[1;33m)\u001b[0m\u001b[1;33m.\u001b[0m\u001b[0mpack\u001b[0m\u001b[1;33m(\u001b[0m\u001b[0mfill\u001b[0m\u001b[1;33m=\u001b[0m\u001b[0mBOTH\u001b[0m\u001b[1;33m)\u001b[0m\u001b[1;33m\u001b[0m\u001b[1;33m\u001b[0m\u001b[0m\n",
      "\u001b[1;32m~\\anaconda3\\lib\\tkinter\\font.py\u001b[0m in \u001b[0;36m__init__\u001b[1;34m(self, root, font, name, exists, **options)\u001b[0m\n\u001b[0;32m     70\u001b[0m                  **options):\n\u001b[0;32m     71\u001b[0m         \u001b[1;32mif\u001b[0m \u001b[1;32mnot\u001b[0m \u001b[0mroot\u001b[0m\u001b[1;33m:\u001b[0m\u001b[1;33m\u001b[0m\u001b[1;33m\u001b[0m\u001b[0m\n\u001b[1;32m---> 72\u001b[1;33m             \u001b[0mroot\u001b[0m \u001b[1;33m=\u001b[0m \u001b[0mtkinter\u001b[0m\u001b[1;33m.\u001b[0m\u001b[0m_get_default_root\u001b[0m\u001b[1;33m(\u001b[0m\u001b[1;34m'use font'\u001b[0m\u001b[1;33m)\u001b[0m\u001b[1;33m\u001b[0m\u001b[1;33m\u001b[0m\u001b[0m\n\u001b[0m\u001b[0;32m     73\u001b[0m         \u001b[0mtk\u001b[0m \u001b[1;33m=\u001b[0m \u001b[0mgetattr\u001b[0m\u001b[1;33m(\u001b[0m\u001b[0mroot\u001b[0m\u001b[1;33m,\u001b[0m \u001b[1;34m'tk'\u001b[0m\u001b[1;33m,\u001b[0m \u001b[0mroot\u001b[0m\u001b[1;33m)\u001b[0m\u001b[1;33m\u001b[0m\u001b[1;33m\u001b[0m\u001b[0m\n\u001b[0;32m     74\u001b[0m         \u001b[1;32mif\u001b[0m \u001b[0mfont\u001b[0m\u001b[1;33m:\u001b[0m\u001b[1;33m\u001b[0m\u001b[1;33m\u001b[0m\u001b[0m\n",
      "\u001b[1;32m~\\anaconda3\\lib\\tkinter\\__init__.py\u001b[0m in \u001b[0;36m_get_default_root\u001b[1;34m(what)\u001b[0m\n\u001b[0;32m    295\u001b[0m     \u001b[1;32mif\u001b[0m \u001b[1;32mnot\u001b[0m \u001b[0m_default_root\u001b[0m\u001b[1;33m:\u001b[0m\u001b[1;33m\u001b[0m\u001b[1;33m\u001b[0m\u001b[0m\n\u001b[0;32m    296\u001b[0m         \u001b[1;32mif\u001b[0m \u001b[0mwhat\u001b[0m\u001b[1;33m:\u001b[0m\u001b[1;33m\u001b[0m\u001b[1;33m\u001b[0m\u001b[0m\n\u001b[1;32m--> 297\u001b[1;33m             \u001b[1;32mraise\u001b[0m \u001b[0mRuntimeError\u001b[0m\u001b[1;33m(\u001b[0m\u001b[1;34mf\"Too early to {what}: no default root window\"\u001b[0m\u001b[1;33m)\u001b[0m\u001b[1;33m\u001b[0m\u001b[1;33m\u001b[0m\u001b[0m\n\u001b[0m\u001b[0;32m    298\u001b[0m         \u001b[0mroot\u001b[0m \u001b[1;33m=\u001b[0m \u001b[0mTk\u001b[0m\u001b[1;33m(\u001b[0m\u001b[1;33m)\u001b[0m\u001b[1;33m\u001b[0m\u001b[1;33m\u001b[0m\u001b[0m\n\u001b[0;32m    299\u001b[0m         \u001b[1;32massert\u001b[0m \u001b[0m_default_root\u001b[0m \u001b[1;32mis\u001b[0m \u001b[0mroot\u001b[0m\u001b[1;33m\u001b[0m\u001b[1;33m\u001b[0m\u001b[0m\n",
      "\u001b[1;31mRuntimeError\u001b[0m: Too early to use font: no default root window"
     ]
    }
   ],
   "source": [
    "    #Title\n",
    "    titleFont = font.Font(family='Arial', size=40, weight='bold')\n",
    "    Label(result, text=\"Result - Personality Prediction\", foreground='green', bg='white', font=titleFont, pady=10, anchor=CENTER).pack(fill=BOTH)"
   ]
  },
  {
   "cell_type": "code",
   "execution_count": null,
   "id": "adbf95c3",
   "metadata": {},
   "outputs": [],
   "source": []
  }
 ],
 "metadata": {
  "kernelspec": {
   "display_name": "Python 3 (ipykernel)",
   "language": "python",
   "name": "python3"
  },
  "language_info": {
   "codemirror_mode": {
    "name": "ipython",
    "version": 3
   },
   "file_extension": ".py",
   "mimetype": "text/x-python",
   "name": "python",
   "nbconvert_exporter": "python",
   "pygments_lexer": "ipython3",
   "version": "3.9.7"
  }
 },
 "nbformat": 4,
 "nbformat_minor": 5
}
